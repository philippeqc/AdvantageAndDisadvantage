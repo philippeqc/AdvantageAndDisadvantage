{
 "cells": [
  {
   "cell_type": "markdown",
   "metadata": {},
   "source": [
    "ran using \"https://cocalc.com/projects/94a82ff9-9a0a-4f17-99d4-663e00f8aa53/files/Dice.ipynb?session=default\""
   ]
  },
  {
   "cell_type": "code",
   "execution_count": 4,
   "metadata": {},
   "outputs": [
    {
     "ename": "ModuleNotFoundError",
     "evalue": "No module named 'pandas'",
     "output_type": "error",
     "traceback": [
      "\u001b[1;31m---------------------------------------------------------------------------\u001b[0m",
      "\u001b[1;31mModuleNotFoundError\u001b[0m                       Traceback (most recent call last)",
      "\u001b[1;32m~\\AppData\\Local\\Temp\\ipykernel_124140\\2714775091.py\u001b[0m in \u001b[0;36m<module>\u001b[1;34m\u001b[0m\n\u001b[1;32m----> 1\u001b[1;33m \u001b[1;32mimport\u001b[0m \u001b[0mpandas\u001b[0m \u001b[1;32mas\u001b[0m \u001b[0mpd\u001b[0m\u001b[1;33m\u001b[0m\u001b[1;33m\u001b[0m\u001b[0m\n\u001b[0m\u001b[0;32m      2\u001b[0m \u001b[1;32mimport\u001b[0m \u001b[0mnumpy\u001b[0m \u001b[1;32mas\u001b[0m \u001b[0mnp\u001b[0m\u001b[1;33m\u001b[0m\u001b[1;33m\u001b[0m\u001b[0m\n\u001b[0;32m      3\u001b[0m \u001b[1;32mimport\u001b[0m \u001b[0mmatplotlib\u001b[0m \u001b[1;32mas\u001b[0m \u001b[0mmpl\u001b[0m\u001b[1;33m\u001b[0m\u001b[1;33m\u001b[0m\u001b[0m\n\u001b[0;32m      4\u001b[0m \u001b[1;33m\u001b[0m\u001b[0m\n\u001b[0;32m      5\u001b[0m \u001b[0mdice\u001b[0m \u001b[1;33m=\u001b[0m \u001b[1;33m[\u001b[0m\u001b[1;36m1\u001b[0m\u001b[1;33m,\u001b[0m\u001b[1;36m2\u001b[0m\u001b[1;33m,\u001b[0m\u001b[1;36m3\u001b[0m\u001b[1;33m,\u001b[0m\u001b[1;36m4\u001b[0m\u001b[1;33m]\u001b[0m\u001b[1;33m\u001b[0m\u001b[1;33m\u001b[0m\u001b[0m\n",
      "\u001b[1;31mModuleNotFoundError\u001b[0m: No module named 'pandas'"
     ]
    }
   ],
   "source": [
    "import pandas as pd\n",
    "import numpy as np\n",
    "\n",
    "N = 4 # number of side of the dice used\n",
    "count = 3 # How many dices are rolled\n",
    "pick = 2 # How many dices are kept\n",
    "\n",
    "table_style = {\n",
    "        ('1','1'):[{'selector': 'td', 'props': 'border-left: 1px solid #000066'}],\n",
    "        ('2','1'):[{'selector': 'td', 'props': 'border-left: 1px solid #000066'}],\n",
    "        ('3','1'):[{'selector': 'td', 'props': 'border-left: 1px solid #000066'}],\n",
    "        ('4','1'):[{'selector': 'td', 'props': 'border-left: 1px solid #000066'}],\n",
    "}\n",
    "\n",
    "d4Labels = ['1', '2', '3', '4']"
   ]
  },
  {
   "cell_type": "code",
   "execution_count": null,
   "metadata": {},
   "outputs": [],
   "source": [
    "best2of3 = np.array([[[0]*N]*N]*N)\n",
    "\n",
    "for x in range(N):\n",
    "    for y in range(N):\n",
    "        for z in range(N):\n",
    "            # The 3 dices values\n",
    "            dices = np.array([x+1,y+1,z+1])\n",
    "            # Pick the best \"pick\" dices (the last ones once sorted) and sum them\n",
    "            total = np.sum(np.sort(dices)[-pick::])\n",
    "            best2of3[x][y][z] = total\n",
    "\n",
    "\n",
    "df = pd.DataFrame(best2of3.reshape(16, 4).T,\n",
    "          index=pd.Index(d4Labels, name='Third:'),\n",
    "          columns=pd.MultiIndex.from_product([d4Labels, d4Labels], names=['First','Second']))\n",
    "df.style.set_table_styles(table_style, overwrite=False, axis=0)"
   ]
  },
  {
   "cell_type": "markdown",
   "metadata": {},
   "source": [
    "Above is all the results for the best 2 out of 3 d4.\n",
    "Out of each matrix, lets substract \"1b2d4\", which is\n",
    "\n",
    "|   | 1 | 2 | 3 | 4 |\n",
    "|---|---|---|---|---|\n",
    "| 1 | 1 | 2 | 3 | 4 |\n",
    "| 2 | 2 | 2 | 3 | 4 |\n",
    "| 3 | 3 | 3 | 3 | 4 |\n",
    "| 4 | 4 | 4 | 4 | 4 |"
   ]
  },
  {
   "cell_type": "code",
   "execution_count": null,
   "metadata": {},
   "outputs": [],
   "source": [
    "best1of2 = np.array([[1,2,3,4], [2,2,3,4], [3,3,3,4], [4,4,4,4]])\n",
    "localResult = best2of3.copy()\n",
    "\n",
    "for i in range(N):\n",
    "    localResult[i] = localResult[i] - best1of2\n",
    "\n",
    "dfx = pd.DataFrame(localResult.reshape(16, 4).T,\n",
    "          index=pd.Index(d4Labels, name='Third:'),\n",
    "          columns=pd.MultiIndex.from_product([d4Labels, d4Labels], names=['First','Second']))\n",
    "dfx.style.set_table_styles(table_style, overwrite=False, axis=0)"
   ]
  },
  {
   "cell_type": "markdown",
   "metadata": {},
   "source": [
    "The first 4 by 4 is the same as \"1w2d4\". Let try removing it from all 4 by 4."
   ]
  },
  {
   "cell_type": "code",
   "execution_count": null,
   "metadata": {},
   "outputs": [],
   "source": [
    "best1of2 = np.array([[1,2,3,4], [2,2,3,4], [3,3,3,4], [4,4,4,4]])\n",
    "worst1of2 = np.array([[1,1,1,1], [1,2,2,2], [1,2,3,3], [1,2,3,4]])\n",
    "localResult = best2of3.copy()\n",
    "\n",
    "for i in range(N):\n",
    "    localResult[i] = localResult[i] - best1of2 - worst1of2\n",
    "\n",
    "dfx = pd.DataFrame(localResult.reshape(16, 4).T,\n",
    "          index=pd.Index(d4Labels, name='Third:'),\n",
    "          columns=pd.MultiIndex.from_product([d4Labels, d4Labels], names=['First','Second']))\n",
    "dfx.style.set_table_styles(table_style, overwrite=False, axis=0)"
   ]
  }
 ],
 "metadata": {
  "interpreter": {
   "hash": "0a54084e6b208ee8d1ce3989ffc20924477a5f55f5a43e22e699a6741623861e"
  },
  "kernelspec": {
   "display_name": "Python 3.7.8 64-bit",
   "language": "python",
   "name": "python3"
  },
  "language_info": {
   "codemirror_mode": {
    "name": "ipython",
    "version": 3
   },
   "file_extension": ".py",
   "mimetype": "text/x-python",
   "name": "python",
   "nbconvert_exporter": "python",
   "pygments_lexer": "ipython3",
   "version": "3.7.8"
  },
  "orig_nbformat": 4
 },
 "nbformat": 4,
 "nbformat_minor": 2
}
